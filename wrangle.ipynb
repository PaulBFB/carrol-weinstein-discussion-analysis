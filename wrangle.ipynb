{
 "cells": [
  {
   "cell_type": "code",
   "id": "c0514acd-6840-448c-8b82-44c960e3951f",
   "metadata": {
    "ExecuteTime": {
     "end_time": "2025-05-24T14:11:50.652213Z",
     "start_time": "2025-05-24T14:11:50.390356Z"
    }
   },
   "source": [
    "import pandas as pd\n",
    "from pathlib import Path\n",
    "from pprint import pprint\n",
    "from parse_technical_terms import get_structured_response"
   ],
   "outputs": [],
   "execution_count": 2
  },
  {
   "cell_type": "code",
   "id": "6573c5ab-93ee-49d6-8748-9ce8c8ba286e",
   "metadata": {
    "ExecuteTime": {
     "end_time": "2025-05-24T14:11:50.656931Z",
     "start_time": "2025-05-24T14:11:50.655155Z"
    }
   },
   "source": [
    "# Assuming your dataframe is called 'df'\n",
    "# If you need to load it first:\n",
    "# df = pd.read_csv('your_file.csv')\n",
    "\n",
    "def group_rows(df, group_size=5):\n",
    "    # Create group numbers (0, 0, 0, 0, 0, 1, 1, 1, 1, 1, ...)\n",
    "    df['group'] = df.index // group_size\n",
    "    \n",
    "    # Group by the group number and aggregate\n",
    "    grouped = df.groupby('group').agg({\n",
    "        'timestamp': lambda x: f\"{x.iloc[0]}-{x.iloc[-1]}\", # First to last timestamp\n",
    "        'text': ' '.join  # Join all text with spaces\n",
    "    }).reset_index(drop=True)\n",
    "    \n",
    "    return grouped"
   ],
   "outputs": [],
   "execution_count": 3
  },
  {
   "cell_type": "code",
   "id": "e3e06ad5-c6ed-466a-ad1f-2190d7f25f0f",
   "metadata": {
    "ExecuteTime": {
     "end_time": "2025-05-24T14:11:50.663386Z",
     "start_time": "2025-05-24T14:11:50.661929Z"
    }
   },
   "source": [
    "data_path = Path.cwd() / 'data' / 'transcript.csv'"
   ],
   "outputs": [],
   "execution_count": 4
  },
  {
   "cell_type": "code",
   "id": "205f745f-f912-4e49-a797-e00730cfc407",
   "metadata": {
    "ExecuteTime": {
     "end_time": "2025-05-24T14:11:50.672349Z",
     "start_time": "2025-05-24T14:11:50.670002Z"
    }
   },
   "source": [
    "data_path.exists()"
   ],
   "outputs": [
    {
     "data": {
      "text/plain": [
       "True"
      ]
     },
     "execution_count": 5,
     "metadata": {},
     "output_type": "execute_result"
    }
   ],
   "execution_count": 5
  },
  {
   "cell_type": "code",
   "id": "a05dbae9-90b6-475e-9508-495df3702f82",
   "metadata": {
    "ExecuteTime": {
     "end_time": "2025-05-24T14:11:50.693907Z",
     "start_time": "2025-05-24T14:11:50.689904Z"
    }
   },
   "source": [
    "with open(data_path, mode='r') as file:\n",
    "    df = pd.read_csv(file)"
   ],
   "outputs": [],
   "execution_count": 6
  },
  {
   "cell_type": "code",
   "id": "7dcd40b2-90a0-48a9-851e-3ed722720f74",
   "metadata": {
    "ExecuteTime": {
     "end_time": "2025-05-24T14:11:50.705832Z",
     "start_time": "2025-05-24T14:11:50.702544Z"
    }
   },
   "source": [
    "df.head()"
   ],
   "outputs": [
    {
     "data": {
      "text/plain": [
       "  timestamp                                               text\n",
       "0      0:00  what is your main bone of contention with Eric...\n",
       "1      0:06  nothing but civil he's also extremely nasty so...\n",
       "2      0:15  explanation for three generations of flavored ...\n",
       "3      0:20  SU3 plus SU2 SU1 i have read Eric's paper here...\n",
       "4      0:26  it's worse than you would think how dare you h..."
      ],
      "text/html": [
       "<div>\n",
       "<style scoped>\n",
       "    .dataframe tbody tr th:only-of-type {\n",
       "        vertical-align: middle;\n",
       "    }\n",
       "\n",
       "    .dataframe tbody tr th {\n",
       "        vertical-align: top;\n",
       "    }\n",
       "\n",
       "    .dataframe thead th {\n",
       "        text-align: right;\n",
       "    }\n",
       "</style>\n",
       "<table border=\"1\" class=\"dataframe\">\n",
       "  <thead>\n",
       "    <tr style=\"text-align: right;\">\n",
       "      <th></th>\n",
       "      <th>timestamp</th>\n",
       "      <th>text</th>\n",
       "    </tr>\n",
       "  </thead>\n",
       "  <tbody>\n",
       "    <tr>\n",
       "      <th>0</th>\n",
       "      <td>0:00</td>\n",
       "      <td>what is your main bone of contention with Eric...</td>\n",
       "    </tr>\n",
       "    <tr>\n",
       "      <th>1</th>\n",
       "      <td>0:06</td>\n",
       "      <td>nothing but civil he's also extremely nasty so...</td>\n",
       "    </tr>\n",
       "    <tr>\n",
       "      <th>2</th>\n",
       "      <td>0:15</td>\n",
       "      <td>explanation for three generations of flavored ...</td>\n",
       "    </tr>\n",
       "    <tr>\n",
       "      <th>3</th>\n",
       "      <td>0:20</td>\n",
       "      <td>SU3 plus SU2 SU1 i have read Eric's paper here...</td>\n",
       "    </tr>\n",
       "    <tr>\n",
       "      <th>4</th>\n",
       "      <td>0:26</td>\n",
       "      <td>it's worse than you would think how dare you h...</td>\n",
       "    </tr>\n",
       "  </tbody>\n",
       "</table>\n",
       "</div>"
      ]
     },
     "execution_count": 7,
     "metadata": {},
     "output_type": "execute_result"
    }
   ],
   "execution_count": 7
  },
  {
   "cell_type": "code",
   "id": "b2229e87-370a-400a-b2aa-d7ce2863bc87",
   "metadata": {
    "ExecuteTime": {
     "end_time": "2025-05-24T14:11:50.733356Z",
     "start_time": "2025-05-24T14:11:50.729165Z"
    }
   },
   "source": [
    "grouped = group_rows(df)"
   ],
   "outputs": [],
   "execution_count": 8
  },
  {
   "cell_type": "code",
   "id": "7901cb26-cb4d-4e4c-80d0-d5f2bf58a8b9",
   "metadata": {
    "ExecuteTime": {
     "end_time": "2025-05-24T14:11:50.750889Z",
     "start_time": "2025-05-24T14:11:50.749055Z"
    }
   },
   "source": [
    "df['text'].values[:10]"
   ],
   "outputs": [
    {
     "data": {
      "text/plain": [
       "array(['what is your main bone of contention with Eric Weinstein uh you should probably ask Eric that sean has been',\n",
       "       \"nothing but civil he's also extremely nasty so let me say a bunch of things to Dr carol dr carol I'd like to hear your\",\n",
       "       'explanation for three generations of flavored chyro firmians with the observed quantum numbers under the group',\n",
       "       \"SU3 plus SU2 SU1 i have read Eric's paper here it is i actually have it here\",\n",
       "       \"it's worse than you would think how dare you how dare I read your paper i highly advise you to spend more time in your\",\n",
       "       \"physics department and less time on YouTube so we're not allowed to think about Eric's theory and write a\",\n",
       "       \"follow-up paper about it and although you're very much Sean I have my disagreements with string theorists my\",\n",
       "       \"agreements with them but I respect it and I think that they're trying their best the first rule of physics fight\",\n",
       "       \"club is don't talk about the problems with physics fight club i have found myself in the awkward and unenviable\",\n",
       "       'position of defending the establishment heterodoxy your intellectually insulting'],\n",
       "      dtype=object)"
      ]
     },
     "execution_count": 9,
     "metadata": {},
     "output_type": "execute_result"
    }
   ],
   "execution_count": 9
  },
  {
   "cell_type": "code",
   "id": "aff0b931-6a01-4c32-9d78-08914499d1fc",
   "metadata": {
    "ExecuteTime": {
     "end_time": "2025-05-24T14:11:50.829730Z",
     "start_time": "2025-05-24T14:11:50.827755Z"
    }
   },
   "source": [
    "' '.join(df['text'].values[:10])"
   ],
   "outputs": [
    {
     "data": {
      "text/plain": [
       "\"what is your main bone of contention with Eric Weinstein uh you should probably ask Eric that sean has been nothing but civil he's also extremely nasty so let me say a bunch of things to Dr carol dr carol I'd like to hear your explanation for three generations of flavored chyro firmians with the observed quantum numbers under the group SU3 plus SU2 SU1 i have read Eric's paper here it is i actually have it here it's worse than you would think how dare you how dare I read your paper i highly advise you to spend more time in your physics department and less time on YouTube so we're not allowed to think about Eric's theory and write a follow-up paper about it and although you're very much Sean I have my disagreements with string theorists my agreements with them but I respect it and I think that they're trying their best the first rule of physics fight club is don't talk about the problems with physics fight club i have found myself in the awkward and unenviable position of defending the establishment heterodoxy your intellectually insulting\""
      ]
     },
     "execution_count": 10,
     "metadata": {},
     "output_type": "execute_result"
    }
   ],
   "execution_count": 10
  },
  {
   "cell_type": "code",
   "id": "51dffb62-f3cd-43c4-8213-322157a7e4e7",
   "metadata": {
    "ExecuteTime": {
     "end_time": "2025-05-24T14:27:53.291419Z",
     "start_time": "2025-05-24T14:20:33.675606Z"
    }
   },
   "source": [
    "topics = []\n",
    "\n",
    "for _, row in grouped.iterrows():\n",
    "    # # # print(row.text)\n",
    "    # # print()\n",
    "    # print(\"calling model\")\n",
    "    row_topics = get_structured_response(text_to_analyze=row.text)\n",
    "    data = row_topics.model_dump()\n",
    "    data['text'] = row.text\n",
    "    data['timestamp'] = row.timestamp\n",
    "    topics.append(data)"
   ],
   "outputs": [],
   "execution_count": 16
  },
  {
   "metadata": {
    "ExecuteTime": {
     "end_time": "2025-05-24T14:27:53.321663Z",
     "start_time": "2025-05-24T14:27:53.318984Z"
    }
   },
   "cell_type": "code",
   "source": "topics[0]",
   "id": "6b30e4ffe904da26",
   "outputs": [
    {
     "data": {
      "text/plain": [
       "{'response': [{'concept_name': 'SU3 group',\n",
       "   'explanation_of_concept': 'A Lie group used in particle physics to describe the strong nuclear force, specifically the symmetry of quarks and gluons.',\n",
       "   'education_level': 'Graduate'},\n",
       "  {'concept_name': 'SU2 SU1 groups',\n",
       "   'explanation_of_concept': 'Subgroups of the SU3 group, describing the electroweak force and the strong nuclear force respectively.',\n",
       "   'education_level': 'Graduate'},\n",
       "  {'concept_name': 'Quantum numbers',\n",
       "   'explanation_of_concept': 'Properties used to describe the behavior of subatomic particles, such as spin, charge, and isospin.',\n",
       "   'education_level': 'Undergraduate'}],\n",
       " 'text': \"what is your main bone of contention with Eric Weinstein uh you should probably ask Eric that sean has been nothing but civil he's also extremely nasty so let me say a bunch of things to Dr carol dr carol I'd like to hear your explanation for three generations of flavored chyro firmians with the observed quantum numbers under the group SU3 plus SU2 SU1 i have read Eric's paper here it is i actually have it here it's worse than you would think how dare you how dare I read your paper i highly advise you to spend more time in your\",\n",
       " 'timestamp': '0:00-0:26'}"
      ]
     },
     "execution_count": 17,
     "metadata": {},
     "output_type": "execute_result"
    }
   ],
   "execution_count": 17
  },
  {
   "cell_type": "code",
   "id": "aa176d2b-1f5d-430e-991c-ab4223aaf10e",
   "metadata": {
    "ExecuteTime": {
     "end_time": "2025-05-24T14:30:33.568121Z",
     "start_time": "2025-05-24T14:30:33.565884Z"
    }
   },
   "source": "topics_df = pd.DataFrame(topics)",
   "outputs": [],
   "execution_count": 25
  },
  {
   "metadata": {
    "ExecuteTime": {
     "end_time": "2025-05-24T14:31:07.964673Z",
     "start_time": "2025-05-24T14:31:07.959030Z"
    }
   },
   "cell_type": "code",
   "source": "topics_df.head()",
   "id": "cd4292db9c17de5c",
   "outputs": [
    {
     "data": {
      "text/plain": [
       "                                            response  \\\n",
       "0  [{'concept_name': 'SU3 group', 'explanation_of...   \n",
       "1  [{'concept_name': 'String Theory', 'explanatio...   \n",
       "2  [{'concept_name': 'Materialism vs. Idealism', ...   \n",
       "3  [{'concept_name': 'Theory of Relativity', 'exp...   \n",
       "4  [{'concept_name': 'Simulation Hypothesis', 'ex...   \n",
       "\n",
       "                                                text  timestamp  \n",
       "0  what is your main bone of contention with Eric...  0:00-0:26  \n",
       "1  physics department and less time on YouTube so...  0:32-0:56  \n",
       "2  uh aspect reminds me of you as the Maran Twine...  1:02-1:28  \n",
       "3  measured and predicted and then came Einstein ...  1:33-1:59  \n",
       "4  universes do we live in a matrix style simulat...  2:04-2:30  "
      ],
      "text/html": [
       "<div>\n",
       "<style scoped>\n",
       "    .dataframe tbody tr th:only-of-type {\n",
       "        vertical-align: middle;\n",
       "    }\n",
       "\n",
       "    .dataframe tbody tr th {\n",
       "        vertical-align: top;\n",
       "    }\n",
       "\n",
       "    .dataframe thead th {\n",
       "        text-align: right;\n",
       "    }\n",
       "</style>\n",
       "<table border=\"1\" class=\"dataframe\">\n",
       "  <thead>\n",
       "    <tr style=\"text-align: right;\">\n",
       "      <th></th>\n",
       "      <th>response</th>\n",
       "      <th>text</th>\n",
       "      <th>timestamp</th>\n",
       "    </tr>\n",
       "  </thead>\n",
       "  <tbody>\n",
       "    <tr>\n",
       "      <th>0</th>\n",
       "      <td>[{'concept_name': 'SU3 group', 'explanation_of...</td>\n",
       "      <td>what is your main bone of contention with Eric...</td>\n",
       "      <td>0:00-0:26</td>\n",
       "    </tr>\n",
       "    <tr>\n",
       "      <th>1</th>\n",
       "      <td>[{'concept_name': 'String Theory', 'explanatio...</td>\n",
       "      <td>physics department and less time on YouTube so...</td>\n",
       "      <td>0:32-0:56</td>\n",
       "    </tr>\n",
       "    <tr>\n",
       "      <th>2</th>\n",
       "      <td>[{'concept_name': 'Materialism vs. Idealism', ...</td>\n",
       "      <td>uh aspect reminds me of you as the Maran Twine...</td>\n",
       "      <td>1:02-1:28</td>\n",
       "    </tr>\n",
       "    <tr>\n",
       "      <th>3</th>\n",
       "      <td>[{'concept_name': 'Theory of Relativity', 'exp...</td>\n",
       "      <td>measured and predicted and then came Einstein ...</td>\n",
       "      <td>1:33-1:59</td>\n",
       "    </tr>\n",
       "    <tr>\n",
       "      <th>4</th>\n",
       "      <td>[{'concept_name': 'Simulation Hypothesis', 'ex...</td>\n",
       "      <td>universes do we live in a matrix style simulat...</td>\n",
       "      <td>2:04-2:30</td>\n",
       "    </tr>\n",
       "  </tbody>\n",
       "</table>\n",
       "</div>"
      ]
     },
     "execution_count": 28,
     "metadata": {},
     "output_type": "execute_result"
    }
   ],
   "execution_count": 28
  },
  {
   "metadata": {
    "ExecuteTime": {
     "end_time": "2025-05-24T14:38:01.361163Z",
     "start_time": "2025-05-24T14:38:01.357894Z"
    }
   },
   "cell_type": "code",
   "source": "topics_df = topics_df.explode(\"response\").reset_index()",
   "id": "e4d48fe56730caa9",
   "outputs": [],
   "execution_count": 37
  },
  {
   "metadata": {
    "ExecuteTime": {
     "end_time": "2025-05-24T14:40:49.681877Z",
     "start_time": "2025-05-24T14:40:49.667864Z"
    }
   },
   "cell_type": "code",
   "source": "topics_df = pd.concat([topics_df[[\"text\", \"timestamp\"]],topics_df[\"response\"].apply(pd.Series)], axis=1)",
   "id": "121fb6d0dfeff867",
   "outputs": [],
   "execution_count": 43
  },
  {
   "metadata": {
    "ExecuteTime": {
     "end_time": "2025-05-24T14:41:24.048936Z",
     "start_time": "2025-05-24T14:41:24.046814Z"
    }
   },
   "cell_type": "code",
   "source": "topics_df = topics_df.drop(columns=[0])",
   "id": "81f0affc83772f3a",
   "outputs": [],
   "execution_count": 46
  },
  {
   "cell_type": "code",
   "id": "16919368-9990-4803-98dc-e7e2b634dd82",
   "metadata": {
    "ExecuteTime": {
     "end_time": "2025-05-24T14:41:30.896933Z",
     "start_time": "2025-05-24T14:41:30.892444Z"
    }
   },
   "source": [
    "topics_df.head()"
   ],
   "outputs": [
    {
     "data": {
      "text/plain": [
       "                                                text  timestamp  \\\n",
       "0  what is your main bone of contention with Eric...  0:00-0:26   \n",
       "1  what is your main bone of contention with Eric...  0:00-0:26   \n",
       "2  what is your main bone of contention with Eric...  0:00-0:26   \n",
       "3  physics department and less time on YouTube so...  0:32-0:56   \n",
       "4  physics department and less time on YouTube so...  0:32-0:56   \n",
       "\n",
       "         concept_name                             explanation_of_concept  \\\n",
       "0           SU3 group  A Lie group used in particle physics to descri...   \n",
       "1      SU2 SU1 groups  Subgroups of the SU3 group, describing the ele...   \n",
       "2     Quantum numbers  Properties used to describe the behavior of su...   \n",
       "3       String Theory  A theoretical framework in physics that attemp...   \n",
       "4  General Relativity  A theory of gravitation developed by Albert Ei...   \n",
       "\n",
       "  education_level  \n",
       "0        Graduate  \n",
       "1        Graduate  \n",
       "2   Undergraduate  \n",
       "3   Undergraduate  \n",
       "4     High School  "
      ],
      "text/html": [
       "<div>\n",
       "<style scoped>\n",
       "    .dataframe tbody tr th:only-of-type {\n",
       "        vertical-align: middle;\n",
       "    }\n",
       "\n",
       "    .dataframe tbody tr th {\n",
       "        vertical-align: top;\n",
       "    }\n",
       "\n",
       "    .dataframe thead th {\n",
       "        text-align: right;\n",
       "    }\n",
       "</style>\n",
       "<table border=\"1\" class=\"dataframe\">\n",
       "  <thead>\n",
       "    <tr style=\"text-align: right;\">\n",
       "      <th></th>\n",
       "      <th>text</th>\n",
       "      <th>timestamp</th>\n",
       "      <th>concept_name</th>\n",
       "      <th>explanation_of_concept</th>\n",
       "      <th>education_level</th>\n",
       "    </tr>\n",
       "  </thead>\n",
       "  <tbody>\n",
       "    <tr>\n",
       "      <th>0</th>\n",
       "      <td>what is your main bone of contention with Eric...</td>\n",
       "      <td>0:00-0:26</td>\n",
       "      <td>SU3 group</td>\n",
       "      <td>A Lie group used in particle physics to descri...</td>\n",
       "      <td>Graduate</td>\n",
       "    </tr>\n",
       "    <tr>\n",
       "      <th>1</th>\n",
       "      <td>what is your main bone of contention with Eric...</td>\n",
       "      <td>0:00-0:26</td>\n",
       "      <td>SU2 SU1 groups</td>\n",
       "      <td>Subgroups of the SU3 group, describing the ele...</td>\n",
       "      <td>Graduate</td>\n",
       "    </tr>\n",
       "    <tr>\n",
       "      <th>2</th>\n",
       "      <td>what is your main bone of contention with Eric...</td>\n",
       "      <td>0:00-0:26</td>\n",
       "      <td>Quantum numbers</td>\n",
       "      <td>Properties used to describe the behavior of su...</td>\n",
       "      <td>Undergraduate</td>\n",
       "    </tr>\n",
       "    <tr>\n",
       "      <th>3</th>\n",
       "      <td>physics department and less time on YouTube so...</td>\n",
       "      <td>0:32-0:56</td>\n",
       "      <td>String Theory</td>\n",
       "      <td>A theoretical framework in physics that attemp...</td>\n",
       "      <td>Undergraduate</td>\n",
       "    </tr>\n",
       "    <tr>\n",
       "      <th>4</th>\n",
       "      <td>physics department and less time on YouTube so...</td>\n",
       "      <td>0:32-0:56</td>\n",
       "      <td>General Relativity</td>\n",
       "      <td>A theory of gravitation developed by Albert Ei...</td>\n",
       "      <td>High School</td>\n",
       "    </tr>\n",
       "  </tbody>\n",
       "</table>\n",
       "</div>"
      ]
     },
     "execution_count": 47,
     "metadata": {},
     "output_type": "execute_result"
    }
   ],
   "execution_count": 47
  },
  {
   "cell_type": "code",
   "id": "283df6e1-0771-4293-aa68-ed590be73789",
   "metadata": {
    "ExecuteTime": {
     "end_time": "2025-05-24T14:41:37.513428Z",
     "start_time": "2025-05-24T14:41:37.510959Z"
    }
   },
   "source": [
    "topics_df['education_level'].value_counts()"
   ],
   "outputs": [
    {
     "data": {
      "text/plain": [
       "education_level\n",
       "Undergraduate                 112\n",
       "Graduate                       77\n",
       "High School                    69\n",
       "High School/Undergraduate       2\n",
       "Undergraduate/Graduate          2\n",
       "Graduate/Professional           1\n",
       "High School, Undergraduate      1\n",
       "Name: count, dtype: int64"
      ]
     },
     "execution_count": 48,
     "metadata": {},
     "output_type": "execute_result"
    }
   ],
   "execution_count": 48
  },
  {
   "cell_type": "code",
   "id": "3a812e94-5209-4575-97e1-87f8d6ad863e",
   "metadata": {
    "ExecuteTime": {
     "end_time": "2025-05-24T14:42:03.662108Z",
     "start_time": "2025-05-24T14:42:03.660175Z"
    }
   },
   "source": [
    "out_path = data_path.parent / 'processed_topics.csv'"
   ],
   "outputs": [],
   "execution_count": 51
  },
  {
   "cell_type": "code",
   "id": "b9c5716e-28a3-4c81-a734-f08518a5dcff",
   "metadata": {
    "ExecuteTime": {
     "end_time": "2025-05-24T14:42:04.778116Z",
     "start_time": "2025-05-24T14:42:04.773993Z"
    }
   },
   "source": [
    "with open(out_path, mode='w') as file:\n",
    "    topics_df.to_csv(file, index=False)"
   ],
   "outputs": [],
   "execution_count": 52
  },
  {
   "cell_type": "code",
   "execution_count": null,
   "id": "f628b5a3-dc92-40ee-8cc5-0c5539df36a8",
   "metadata": {},
   "outputs": [],
   "source": []
  }
 ],
 "metadata": {
  "kernelspec": {
   "display_name": "Python 3 (ipykernel)",
   "language": "python",
   "name": "python3"
  },
  "language_info": {
   "codemirror_mode": {
    "name": "ipython",
    "version": 3
   },
   "file_extension": ".py",
   "mimetype": "text/x-python",
   "name": "python",
   "nbconvert_exporter": "python",
   "pygments_lexer": "ipython3",
   "version": "3.12.8"
  }
 },
 "nbformat": 4,
 "nbformat_minor": 5
}
